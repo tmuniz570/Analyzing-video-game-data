{
 "cells": [
  {
   "cell_type": "markdown",
   "id": "35b618ad",
   "metadata": {},
   "source": [
    "# Here we will analyze the game data"
   ]
  },
  {
   "cell_type": "markdown",
   "id": "0814dedf",
   "metadata": {},
   "source": [
    "### Preparing Data"
   ]
  },
  {
   "cell_type": "code",
   "execution_count": null,
   "id": "fa7d379f",
   "metadata": {},
   "outputs": [],
   "source": [
    "import pandas as pd\n",
    "import numpy as np\n",
    "from matplotlib import pyplot as plt\n",
    "import seaborn as sns\n",
    "from scipy import stats"
   ]
  },
  {
   "cell_type": "code",
   "execution_count": null,
   "id": "b38e5c92",
   "metadata": {},
   "outputs": [],
   "source": [
    "# reading data file\n",
    "df = pd.read_csv('./games.csv')"
   ]
  },
  {
   "cell_type": "code",
   "execution_count": null,
   "id": "970a2f00",
   "metadata": {},
   "outputs": [],
   "source": [
    "# checking data\n",
    "display(df.head(), df.shape, df.columns)\n",
    "df.info()"
   ]
  },
  {
   "cell_type": "code",
   "execution_count": null,
   "id": "8495c221",
   "metadata": {},
   "outputs": [],
   "source": [
    "# setting columns names to lower case\n",
    "df.columns = [name for name in df.columns.str.lower()]"
   ]
  },
  {
   "cell_type": "code",
   "execution_count": null,
   "id": "4ac74ef6",
   "metadata": {},
   "outputs": [],
   "source": [
    "# checking for duplicates\n",
    "display(df.duplicated().sum())"
   ]
  },
  {
   "cell_type": "markdown",
   "id": "e89e513d",
   "metadata": {},
   "source": [
    "---"
   ]
  },
  {
   "cell_type": "code",
   "execution_count": null,
   "id": "7bd675fb",
   "metadata": {},
   "outputs": [],
   "source": [
    "# checking for missing values ​​in name and gender column at the same time\n",
    "display(df['name'].isna().sum())\n",
    "display(df[df['name'].isna()].head())\n",
    "display(df['genre'].isna().sum())\n",
    "display(df[df['genre'].isna()].head())\n",
    "\n",
    "# dropping rows with missing values in name and genre columns\n",
    "df.dropna(subset=['name', 'genre'], inplace=True)"
   ]
  },
  {
   "cell_type": "markdown",
   "id": "a583f04c",
   "metadata": {},
   "source": [
    "We removed the 2 lines with missing values ​​in name and genre, they seem to be 2 isolated cases that will not hinder our analysis.\n",
    "\n",
    "---"
   ]
  },
  {
   "cell_type": "code",
   "execution_count": null,
   "id": "2bebc83f",
   "metadata": {},
   "outputs": [],
   "source": [
    "# checking for missing values on year_of_release column\n",
    "display(df['year_of_release'].isna().sum())\n",
    "\n",
    "# filling missing values with 0\n",
    "df['year_of_release'] = df['year_of_release'].fillna(0)\n",
    "\n",
    "# checking if can convert year column to int\n",
    "if np.array_equal(df['year_of_release'], df['year_of_release'].astype(int)):\n",
    "    df['year_of_release'] = df['year_of_release'].astype(int)\n",
    "\n",
    "# checking for missing values on year_of_release column\n",
    "display(df['year_of_release'].isna().sum())"
   ]
  },
  {
   "cell_type": "markdown",
   "id": "f537b47f",
   "metadata": {},
   "source": [
    "We don't know the reason for the missing values ​​but we'll fill them with 0 so we can know when 0 it was missing\n",
    "\n",
    "---"
   ]
  },
  {
   "cell_type": "code",
   "execution_count": null,
   "id": "222867b2",
   "metadata": {},
   "outputs": [],
   "source": [
    "# checking for missing values on critic_score column\n",
    "display(df['critic_score'].isna().sum())\n",
    "\n",
    "# filling missing values with -1\n",
    "df['critic_score'] = df['critic_score'].fillna(-1)\n",
    "\n",
    "# checking if can convert critic_score column to int\n",
    "if np.array_equal(df['critic_score'], df['critic_score'].astype(int)):\n",
    "    df['critic_score'] = df['critic_score'].astype(int)\n",
    "\n",
    "# checking for missing values on critic_score column\n",
    "display(df['critic_score'].isna().sum())"
   ]
  },
  {
   "cell_type": "markdown",
   "id": "88943d6e",
   "metadata": {},
   "source": [
    "We don't know the reason for the missing values, but we'll fill them with -1, since 0 could be a grade that could easily be confused with real data.\n",
    "\n",
    "---"
   ]
  },
  {
   "cell_type": "code",
   "execution_count": null,
   "id": "5744dae6",
   "metadata": {},
   "outputs": [],
   "source": [
    "# checking for missing values on user_score column\n",
    "display(df['user_score'].isna().sum())\n",
    "\n",
    "# filling missing values with -1\n",
    "df['user_score'] = df['user_score'].fillna(-1)\n",
    "# replacing 'tbd' with -2\n",
    "df['user_score'] = df['user_score'].replace('tbd', -2)\n",
    "\n",
    "# checking if can convert user_score column to float\n",
    "df['user_score'] = df['user_score'].astype(float)\n",
    "\n",
    "# checking for missing values on user_score column\n",
    "display(df['user_score'].isna().sum())"
   ]
  },
  {
   "cell_type": "markdown",
   "id": "c70622cd",
   "metadata": {},
   "source": [
    "We don't know the reason for the missing values, but we'll fill them with -1, since 0 could be a grade that could easily be confused with real data and we will fill 'tdb' with -2.\n",
    "\n",
    "---"
   ]
  },
  {
   "cell_type": "code",
   "execution_count": null,
   "id": "8a6a89ee",
   "metadata": {},
   "outputs": [],
   "source": [
    "# filling missing values on rating column\n",
    "df['rating'] = df['rating'].fillna('RP')"
   ]
  },
  {
   "cell_type": "markdown",
   "id": "c4fc8540",
   "metadata": {},
   "source": [
    "Filling missing rating values ​​with RP (Rating Pending)\n",
    "\n",
    "---"
   ]
  },
  {
   "cell_type": "markdown",
   "id": "45bbc5c3",
   "metadata": {},
   "source": [
    "Making a column with the total of sales for each game"
   ]
  },
  {
   "cell_type": "code",
   "execution_count": null,
   "id": "4a9f520d",
   "metadata": {},
   "outputs": [],
   "source": [
    "df['total_sales'] = df['na_sales'] + df['eu_sales'] + df['jp_sales'] + df['other_sales']"
   ]
  },
  {
   "cell_type": "markdown",
   "id": "87c26183",
   "metadata": {},
   "source": [
    "---\n",
    "### Starting the analysis"
   ]
  },
  {
   "cell_type": "markdown",
   "id": "8cad1c52",
   "metadata": {},
   "source": [
    "Let's see the distribution of games released each year in our data"
   ]
  },
  {
   "cell_type": "code",
   "execution_count": null,
   "id": "5254fba8",
   "metadata": {},
   "outputs": [],
   "source": [
    "\n",
    "df[df['year_of_release'] != 0]['year_of_release'].value_counts().sort_index().plot(kind='bar',\n",
    "                                                       figsize=(15, 5),\n",
    "                                                       title='Year of release distribution',\n",
    "                                                       xlabel='Year of release',\n",
    "                                                       ylabel='Number of games released')\n",
    "plt.show()"
   ]
  },
  {
   "cell_type": "markdown",
   "id": "058c2bdd",
   "metadata": {},
   "source": [
    "We can see that there was a peak between 2008 and 2009 but then the number of launches fell again."
   ]
  },
  {
   "cell_type": "markdown",
   "id": "440b6b68",
   "metadata": {},
   "source": [
    "---"
   ]
  },
  {
   "cell_type": "code",
   "execution_count": null,
   "id": "f06f33e7",
   "metadata": {},
   "outputs": [],
   "source": [
    "# checking platforms with the highest total sales\n",
    "platforms_top10_sales = df.groupby('platform')['total_sales'].sum().sort_values(ascending=False).head(10).index.tolist()\n",
    "display(platforms_top10_sales)"
   ]
  },
  {
   "cell_type": "code",
   "execution_count": null,
   "id": "82303466",
   "metadata": {},
   "outputs": [],
   "source": [
    "# showing sales distribution of top 10 platforms over the years\n",
    "df.query('platform in @platforms_top10_sales and year_of_release != 0').groupby(['year_of_release', 'platform'])['total_sales'].sum().unstack().plot(\n",
    "    kind='bar',\n",
    "    figsize=(15, 5),\n",
    "    title='Top 10 platforms sales distribution',\n",
    "    xlabel='Year of release',\n",
    "    ylabel='Total sales',\n",
    "    stacked=True)\n",
    "plt.legend(title='Platform', loc='upper left')\n",
    "plt.show()"
   ]
  },
  {
   "cell_type": "markdown",
   "id": "c6a11717",
   "metadata": {},
   "source": [
    "We can see that PlayStation versions of games peaked in sales for about 4 to 6 years after their release and lost sales immediately after a new version of the platform was released, making sales of the old version almost non-existent after 2 years. We also see that sales of video games increased with the new platforms, XBox 360, DS and Wii between 2006 and 2010 as a wave, but after that PlayStation games regained their status as a near monopoly. Furthermore, sales of video games declined significantly after this wave, factors such as subscription sales model, digital platforms and global financial situation can be considered for this.\n",
    "\n",
    "---"
   ]
  },
  {
   "cell_type": "markdown",
   "id": "83fb1473",
   "metadata": {},
   "source": [
    "Since we are talking about technology and a relatively young and immediate audience, we will use data from the most recent 5 years to plan for the next year."
   ]
  },
  {
   "cell_type": "code",
   "execution_count": null,
   "id": "9590b2cd",
   "metadata": {},
   "outputs": [],
   "source": [
    "df_recent_released = df.query('year_of_release in [2012, 2013, 2014, 2015, 2016]').reset_index(drop=True)"
   ]
  },
  {
   "cell_type": "code",
   "execution_count": null,
   "id": "9ab9e11c",
   "metadata": {},
   "outputs": [],
   "source": [
    "# checking the top platforms with the highest total sales in recent years\n",
    "top_5 = df_recent_released.groupby('platform')['total_sales'].sum().sort_values(ascending=False).index.tolist()[:5]"
   ]
  },
  {
   "cell_type": "markdown",
   "id": "e478b643",
   "metadata": {},
   "source": [
    "---\n",
    "\n",
    "Let's check which platforms had the most sales in the last 5 years"
   ]
  },
  {
   "cell_type": "code",
   "execution_count": null,
   "id": "97f1022d",
   "metadata": {},
   "outputs": [],
   "source": [
    "df_recent_released.groupby('platform')['total_sales'].sum().plot(\n",
    "    kind='bar',\n",
    "    x='platform',\n",
    "    figsize=(15, 5),\n",
    "    legend=False,\n",
    "    xlabel='Platform',\n",
    "    ylabel='Total sales')\n",
    "plt.show()"
   ]
  },
  {
   "cell_type": "code",
   "execution_count": null,
   "id": "89353b39",
   "metadata": {},
   "outputs": [],
   "source": [
    "df_recent_released.query('platform in @top_5').groupby(['year_of_release', 'platform'])['total_sales'].sum().unstack().plot(\n",
    "    kind='line',\n",
    "    figsize=(15, 5),\n",
    "    title='Top 5 platforms sales time line',\n",
    "    xlabel='Year of release',\n",
    "    ylabel='Total sales')\n",
    "plt.legend(title='Platform', bbox_to_anchor=(1, 1), loc='upper left')\n",
    "plt.show()"
   ]
  },
  {
   "cell_type": "code",
   "execution_count": null,
   "id": "482c2b77",
   "metadata": {},
   "outputs": [],
   "source": [
    "df_recent_released.query('platform not in @top_5').groupby(['year_of_release', 'platform'])['total_sales'].sum().unstack().plot(\n",
    "    kind='line',\n",
    "    figsize=(15, 5),\n",
    "    title='Other platforms sales time line',\n",
    "    xlabel='Year of release',\n",
    "    ylabel='Total sales')\n",
    "plt.legend(title='Platform', bbox_to_anchor=(1, 1), loc='upper left')\n",
    "plt.show()"
   ]
  },
  {
   "cell_type": "markdown",
   "id": "af66f21e",
   "metadata": {},
   "source": [
    "In the graphs generated we could observe that throughout the period games from the PS3 and PS4 platforms led in sales followed by X360, 3DS and xOne, and observing their behavior over the years we noticed that game sales on all platforms are falling and in the last year we had PS4 in the lead, followed by xOne, 3DS, PS3 and X360, game sales on the other platforms have very low values ​​in the last year.\n",
    "\n",
    "---"
   ]
  },
  {
   "cell_type": "code",
   "execution_count": null,
   "id": "38c88a9c",
   "metadata": {},
   "outputs": [],
   "source": [
    "sns.set_theme(rc={'figure.figsize':(15, 5)})\n",
    "sns.boxplot(data=df_recent_released.query('platform in @top_5'), y='platform', x='total_sales')\n",
    "plt.title('Top 5 platforms sales distribution')\n",
    "plt.xlabel('Total sales')\n",
    "plt.ylabel('Platform')\n",
    "plt.show()"
   ]
  },
  {
   "cell_type": "markdown",
   "id": "945ee85b",
   "metadata": {},
   "source": [
    "In this box plot we can't extract much useful information, but we can see that there are several outliers."
   ]
  },
  {
   "cell_type": "code",
   "execution_count": null,
   "id": "cc624d00",
   "metadata": {},
   "outputs": [],
   "source": [
    "df_recent_released.query('platform in @top_5').groupby('platform')['total_sales'].median().reset_index().plot(\n",
    "    kind='bar',\n",
    "    x='platform',\n",
    "    figsize=(15, 5),\n",
    "    legend=False,\n",
    "    title='Top 5 platforms sales median',\n",
    "    xlabel='Platform',\n",
    "    ylabel='Total sales')\n",
    "plt.show()"
   ]
  },
  {
   "cell_type": "code",
   "execution_count": null,
   "id": "783cd53c",
   "metadata": {},
   "outputs": [],
   "source": [
    "df_recent_released.query('platform in @top_5').groupby('platform')['total_sales'].mean().reset_index().plot(\n",
    "    kind='bar',\n",
    "    x='platform',\n",
    "    figsize=(15, 5),\n",
    "    legend=False,\n",
    "    title='Top 5 platforms sales mean',\n",
    "    xlabel='Platform',\n",
    "    ylabel='Total sales')\n",
    "plt.show()"
   ]
  },
  {
   "cell_type": "markdown",
   "id": "f5567244",
   "metadata": {},
   "source": [
    "The differences in sales are quite significant, and the platform averages diverge from the medians due to the large number of outliers. Overall, we notice that sales of games for the Xbox 360 are much more significant than they initially seemed. We can assume that a few very successful games lead to this discrepancy between the values ​​and their medians.\n",
    "\n",
    "---"
   ]
  },
  {
   "cell_type": "code",
   "execution_count": null,
   "id": "bfce03ce",
   "metadata": {},
   "outputs": [],
   "source": [
    "# filtering the top platform with the highest total sales in recent years\n",
    "df_recent_released_top_seler_platform = df_recent_released.query('platform == @top_5[0]')"
   ]
  },
  {
   "cell_type": "code",
   "execution_count": null,
   "id": "77d58bee",
   "metadata": {},
   "outputs": [],
   "source": [
    "# plotting the sales distribution by User score\n",
    "df_recent_released_top_seler_platform.query('user_score >= 0').plot(\n",
    "    kind='scatter',\n",
    "    x='user_score',\n",
    "    y='total_sales',\n",
    "    figsize=(15, 5),\n",
    "    title='Sales distribution by user score',\n",
    "    xlabel='User score',\n",
    "    ylabel='Total sales')\n",
    "plt.show()\n",
    "\n",
    "# showing the correlation between user score and total sales\n",
    "display(df_recent_released_top_seler_platform.query('user_score >= 0')['user_score'].corr(df_recent_released_top_seler_platform['total_sales']))"
   ]
  },
  {
   "cell_type": "code",
   "execution_count": null,
   "id": "cbc769b9",
   "metadata": {},
   "outputs": [],
   "source": [
    "# plotting the sales distribution by Critic score\n",
    "df_recent_released_top_seler_platform.query('critic_score >= 0').plot(\n",
    "    kind='scatter',\n",
    "    x='critic_score',\n",
    "    y='total_sales',\n",
    "    figsize=(15, 5),\n",
    "    title='Sales distribution by Critic score',\n",
    "    xlabel='Critic score',\n",
    "    ylabel='Total sales')\n",
    "\n",
    "plt.show()\n",
    "\n",
    "# showing the correlation between critic score and total sales\n",
    "display(df_recent_released_top_seler_platform.query('critic_score >= 0')['critic_score'].corr(df_recent_released_top_seler_platform['total_sales']))"
   ]
  },
  {
   "cell_type": "markdown",
   "id": "f0bd1418",
   "metadata": {},
   "source": [
    "Professional reviews have a greater correlation with sales than user reviews; user reviews can be negative in the case of the PS4, for example.\n",
    "\n",
    "---"
   ]
  },
  {
   "cell_type": "code",
   "execution_count": null,
   "id": "c9950815",
   "metadata": {},
   "outputs": [],
   "source": [
    "# listing names of top 20 best selers games\n",
    "top_seler_games_names = df_recent_released[['name', 'total_sales']].sort_values(by='total_sales', ascending=False).head(20).name.tolist()\n",
    "\n",
    "# creating a new dataframe with the games in the list\n",
    "df_games_to_compare = df_recent_released.query('name in @top_seler_games_names')\n",
    "\n",
    "# grouping by name and platform, summing the total sales and unstacking to create a pivot table to plot\n",
    "df_games_to_compare.groupby(['name', 'platform'])['total_sales'].sum().unstack().fillna(0).plot(\n",
    "    kind='bar',\n",
    "    stacked=True,\n",
    "    figsize=(15, 10),\n",
    "    title='Top 20 games total sales by platform'\n",
    "    )\n",
    "plt.ylabel('Total Sales (in millions)')\n",
    "plt.xlabel('')\n",
    "plt.xticks(rotation=45, ha='right')\n",
    "plt.legend(title='Platform')\n",
    "plt.tight_layout()\n",
    "plt.show()"
   ]
  },
  {
   "cell_type": "markdown",
   "id": "60845ba0",
   "metadata": {},
   "source": [
    "We selected the top 20 best-selling games from 2012 to 2016 and stacked them in total sales by platform in a bar graph, so we can see how sales behaved on each platform for the same game.\n",
    "\n",
    "---"
   ]
  },
  {
   "cell_type": "code",
   "execution_count": null,
   "id": "1afc1fe1",
   "metadata": {},
   "outputs": [],
   "source": [
    "df_recent_released.groupby('genre')['total_sales'].sum().sort_values(ascending=False).plot(\n",
    "    kind='bar',\n",
    "    figsize=(15, 10),\n",
    "    title='Total sales by genre'\n",
    "    )\n",
    "plt.ylabel('Total Sales (in millions)')\n",
    "plt.xlabel('')\n",
    "plt.xticks(rotation=45, ha='right')\n",
    "plt.tight_layout()\n",
    "plt.show()"
   ]
  },
  {
   "cell_type": "code",
   "execution_count": null,
   "id": "e270ac88",
   "metadata": {},
   "outputs": [],
   "source": [
    "sns.set_theme(rc={'figure.figsize':(15, 5)})\n",
    "sns.boxplot(data=df_recent_released, x='total_sales', hue='genre', palette='Set2')\n",
    "plt.title('Boxplot of total sales by genre')\n",
    "plt.xlabel('Total Sales (in millions)')\n",
    "plt.show()"
   ]
  },
  {
   "cell_type": "markdown",
   "id": "1bb7104e",
   "metadata": {},
   "source": [
    "In absolute sales values ​​by genre, we observe a difference with the distribution, which was already expected due to some isolated cases of great success of some games in relation to the majority. The most profitable genres would be Shooter, Platform, Sports, RP and Action, and we cannot generalize, because as already observed, some outliers are taking the absolute sales values ​​to the heights, but we know that this is not a pattern when we look at the distribution.\n",
    "\n",
    "---\n",
    "\n",
    "### Region profile"
   ]
  },
  {
   "cell_type": "code",
   "execution_count": null,
   "id": "ca5fb4c5",
   "metadata": {},
   "outputs": [],
   "source": [
    "# checking the top 5 platforms with the highest sales in North America\n",
    "na_top5_platforms = df_recent_released.groupby('platform')['na_sales'].sum().sort_values(ascending=False)[:5].reset_index()\n",
    "\n",
    "# checking the total sales in North America\n",
    "na_total_sales = df_recent_released['na_sales'].sum()\n",
    "\n",
    "# calculating the market share of each top 5 platforms in North America\n",
    "na_top5_platforms['market_share'] = (na_top5_platforms['na_sales'] / na_total_sales * 100).round(2).astype(str) + '%'\n",
    "\n",
    "display(na_top5_platforms)"
   ]
  },
  {
   "cell_type": "code",
   "execution_count": null,
   "id": "efd0b8ea",
   "metadata": {},
   "outputs": [],
   "source": [
    "# checking the top 5 platforms with the highest sales in Europe\n",
    "eu_top5_platforms = df_recent_released.groupby('platform')['eu_sales'].sum().sort_values(ascending=False)[:5].reset_index()\n",
    "\n",
    "# checking the total sales in Europe\n",
    "eu_total_sales = df_recent_released['eu_sales'].sum()\n",
    "\n",
    "# calculating the market share of each top 5 platforms in Europe\n",
    "eu_top5_platforms['market_share'] = (eu_top5_platforms['eu_sales'] / eu_total_sales * 100).round(2).astype(str) + '%'\n",
    "\n",
    "display(eu_top5_platforms)"
   ]
  },
  {
   "cell_type": "code",
   "execution_count": null,
   "id": "09a26382",
   "metadata": {},
   "outputs": [],
   "source": [
    "# checking the top 5 platforms with the highest sales in North America\n",
    "jp_top5_platforms = df_recent_released.groupby('platform')['jp_sales'].sum().sort_values(ascending=False)[:5].reset_index()\n",
    "\n",
    "# checking the total sales in North America\n",
    "jp_total_sales = df_recent_released['jp_sales'].sum()\n",
    "\n",
    "# calculating the market share of each top 5 platforms in North America\n",
    "jp_top5_platforms['market_share'] = (jp_top5_platforms['jp_sales'] / jp_total_sales * 100).round(2).astype(str) + '%'\n",
    "\n",
    "display(jp_top5_platforms)"
   ]
  },
  {
   "cell_type": "markdown",
   "id": "7a597bfb",
   "metadata": {},
   "source": [
    "We calculated the market share for the main platforms in the 3 regions and were able to observe the differences in favorite platforms for each of them.\n",
    "\n",
    "---"
   ]
  },
  {
   "cell_type": "code",
   "execution_count": null,
   "id": "f3408508",
   "metadata": {},
   "outputs": [],
   "source": [
    "# checking the top 5 genres with the highest sales in North America\n",
    "na_top5_genres = df_recent_released.groupby('genre')['na_sales'].sum().sort_values(ascending=False)[:5].index.tolist()\n",
    "\n",
    "display(na_top5_genres)"
   ]
  },
  {
   "cell_type": "code",
   "execution_count": null,
   "id": "e99d8bc3",
   "metadata": {},
   "outputs": [],
   "source": [
    "# checking the top 5 genres with the highest sales in Europe\n",
    "eu_top5_genres = df_recent_released.groupby('genre')['eu_sales'].sum().sort_values(ascending=False)[:5].index.tolist()\n",
    "\n",
    "display(eu_top5_genres)"
   ]
  },
  {
   "cell_type": "code",
   "execution_count": null,
   "id": "700166b0",
   "metadata": {},
   "outputs": [],
   "source": [
    "# checking the top 5 genres with the highest sales in Japan\n",
    "jp_top5_genres = df_recent_released.groupby('genre')['jp_sales'].sum().sort_values(ascending=False)[:5].index.tolist()\n",
    "\n",
    "display(jp_top5_genres)"
   ]
  },
  {
   "cell_type": "markdown",
   "id": "148d16ea",
   "metadata": {},
   "source": [
    "North America and Europe follow very similar genre preferences, while Japan has a very distinct preference.\n",
    "\n",
    "---"
   ]
  },
  {
   "cell_type": "code",
   "execution_count": null,
   "id": "27b00a74",
   "metadata": {},
   "outputs": [],
   "source": [
    "df_recent_released.groupby('rating')['na_sales'].sum().sort_values(ascending=False)"
   ]
  },
  {
   "cell_type": "code",
   "execution_count": null,
   "id": "327bac97",
   "metadata": {},
   "outputs": [],
   "source": [
    "df_recent_released.groupby('rating')['eu_sales'].sum().sort_values(ascending=False)"
   ]
  },
  {
   "cell_type": "code",
   "execution_count": null,
   "id": "ad1cf357",
   "metadata": {},
   "outputs": [],
   "source": [
    "df_recent_released.groupby('rating')['jp_sales'].sum().sort_values(ascending=False)"
   ]
  },
  {
   "cell_type": "markdown",
   "id": "38d8b15e",
   "metadata": {},
   "source": [
    "Once again, North America and Europe are similar while Japan is different, so yes, sales are affected in different regions according to the classification.\n",
    "\n",
    "---\n",
    "\n",
    " ### Hypothesis testing"
   ]
  },
  {
   "cell_type": "code",
   "execution_count": null,
   "id": "f44898a7",
   "metadata": {},
   "outputs": [],
   "source": [
    "# preparing data for the t-test\n",
    "sample_xone_user_score = df_recent_released.query('user_score >= 0 and platform == \"XOne\"')['user_score']\n",
    "sample_pc_user_score = df_recent_released.query('user_score >= 0 and platform == \"PC\"')['user_score']\n",
    "\n",
    "alpha = 0.05\n",
    "# H0: The average user score of XOne and PC platforms are equal\n",
    "# H1: The average user score of XOne and PC platforms are not equal\n",
    "\n",
    "# checking the sample distribution\n",
    "plt.figure(figsize=(15, 5))\n",
    "plt.subplot(1, 2, 1)\n",
    "sns.histplot(sample_xone_user_score, kde=True, color='blue', label='XOne', bins=30)\n",
    "plt.title('XOne User Score Distribution')\n",
    "plt.xlabel('User Score')\n",
    "plt.ylabel('Frequency')\n",
    "plt.legend()\n",
    "plt.subplot(1, 2, 2)\n",
    "sns.histplot(sample_pc_user_score, kde=True, color='red', label='PC', bins=30)\n",
    "plt.title('PC User Score Distribution')\n",
    "plt.xlabel('User Score')\n",
    "plt.ylabel('Frequency')\n",
    "plt.legend()\n",
    "plt.show()\n",
    "\n",
    "# checking the t-test\n",
    "t_test = stats.ttest_ind(sample_xone_user_score, sample_pc_user_score, equal_var=False)\n",
    "\n",
    "# checking the t-test result\n",
    "if t_test.pvalue < alpha:\n",
    "    print('The null hypothesis is rejected.')\n",
    "else:\n",
    "    print('The null hypothesis cannot be rejected.')"
   ]
  },
  {
   "cell_type": "markdown",
   "id": "b78306fd",
   "metadata": {},
   "source": [
    "The null hypothesis cannot be rejected, so we have reason to believe that there is a great similarity between the distributions.\n",
    "\n",
    "---"
   ]
  },
  {
   "cell_type": "code",
   "execution_count": null,
   "id": "a65478bf",
   "metadata": {},
   "outputs": [],
   "source": [
    "sample_action_user_score = df_recent_released.query('user_score >= 0 and genre == \"Action\"')['user_score']\n",
    "sample_sports_user_score = df_recent_released.query('user_score >= 0 and genre == \"Sports\"')['user_score']\n",
    "\n",
    "alpha = 0.05\n",
    "# H0: The average user score of Action and Sports genres are equal\n",
    "# H1: The average user score of Action and Sports genres are not equal\n",
    "\n",
    "# checking the sample distribution\n",
    "plt.figure(figsize=(15, 5))\n",
    "plt.subplot(1, 2, 1)\n",
    "sns.histplot(sample_action_user_score, kde=True, color='blue', label='Action', bins=30)\n",
    "plt.title('Action User Score Distribution')\n",
    "plt.xlabel('User Score')\n",
    "plt.ylabel('Frequency')\n",
    "plt.legend()\n",
    "plt.subplot(1, 2, 2)\n",
    "sns.histplot(sample_sports_user_score, kde=True, color='red', label='Sports', bins=30)\n",
    "plt.title('Sports User Score Distribution')\n",
    "plt.xlabel('User Score')\n",
    "plt.ylabel('Frequency')\n",
    "plt.legend()\n",
    "plt.show()\n",
    "\n",
    "# checking the t-test\n",
    "t_test = stats.ttest_ind(sample_action_user_score, sample_sports_user_score, equal_var=False)\n",
    "\n",
    "# checking the t-test result\n",
    "if t_test.pvalue < alpha:\n",
    "    print('The null hypothesis is rejected.')\n",
    "else:\n",
    "    print('The null hypothesis cannot be rejected.')"
   ]
  },
  {
   "cell_type": "markdown",
   "id": "f62cd184",
   "metadata": {},
   "source": [
    "The null hypothesis was rejected, so we have reason to believe that there is no similarity between the distributions.\n",
    "\n",
    "---\n",
    "\n",
    "### Conclusion"
   ]
  },
  {
   "cell_type": "markdown",
   "id": "e328ab0e",
   "metadata": {},
   "source": [
    "During the analysis, we saw that game sales have fallen in recent years on all platforms, but PS4 and X360 lead the way. We noticed that professional reviews are more relevant than user reviews, and that PS4 has a high number of sales of specific games, while on average it is lower than others. The same is true for action games. GTA V is the game with the highest sales volume, surpassing 50 million dollars.\n",
    "\n",
    "Europe and North America prefer Sony, while Japan prefers Nintendo. Japan also differs from other regions when it comes to genre preference and rating.\n",
    "\n",
    "We confirmed that the average user ratings for the Xbox One and PC platforms are the same, and the average user ratings for the Action and Sports genres are different, both following an alpha threshold of 5%.\n",
    "\n",
    "Now we can target advertising campaigns for each region, platform and genre, precisely to reach the right audience and obtain a greater volume of sales."
   ]
  }
 ],
 "metadata": {
  "kernelspec": {
   "display_name": "base",
   "language": "python",
   "name": "python3"
  },
  "language_info": {
   "codemirror_mode": {
    "name": "ipython",
    "version": 3
   },
   "file_extension": ".py",
   "mimetype": "text/x-python",
   "name": "python",
   "nbconvert_exporter": "python",
   "pygments_lexer": "ipython3",
   "version": "3.12.7"
  }
 },
 "nbformat": 4,
 "nbformat_minor": 5
}
